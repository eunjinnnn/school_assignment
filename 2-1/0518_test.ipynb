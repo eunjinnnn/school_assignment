{
 "cells": [
  {
   "cell_type": "markdown",
   "metadata": {},
   "source": [
    "# 05/18(수) 실습문제 - 신뢰구간 추정과 가설검정\n",
    "\n",
    "제출시 HTML(.html) 형식으로 다운로드한 뒤, 올려주세요."
   ]
  },
  {
   "cell_type": "code",
   "execution_count": 1,
   "metadata": {},
   "outputs": [],
   "source": [
    "# 수치 계산에 사용하는 라이브러리\n",
    "import numpy as np\n",
    "import pandas as pd\n",
    "import scipy as sp\n",
    "from scipy import stats\n",
    "\n",
    "# 그래프를 그리기 위한 라이브러리\n",
    "from matplotlib import pyplot as plt\n",
    "import seaborn as sns\n",
    "sns.set()\n",
    "\n",
    "# 표시 자릿수 지정\n",
    "%precision 3\n",
    "# 그래프를 주피터 노트북에 그리기 위한 설정\n",
    "%matplotlib inline"
   ]
  },
  {
   "cell_type": "markdown",
   "metadata": {},
   "source": [
    "---"
   ]
  },
  {
   "cell_type": "markdown",
   "metadata": {},
   "source": [
    "## 1. 점 추정과 신뢰구간\n",
    "아래 데이터 읽기 코드를 먼저 실행하고, height 데이터에 대해 아래 문제를 푸시오."
   ]
  },
  {
   "cell_type": "code",
   "execution_count": 2,
   "metadata": {},
   "outputs": [
    {
     "data": {
      "text/plain": [
       "2       157.7\n",
       "3       151.0\n",
       "4       146.1\n",
       "5       157.2\n",
       "7       168.8\n",
       "        ...  \n",
       "5958    157.9\n",
       "5963    159.8\n",
       "5964    156.9\n",
       "5965    145.2\n",
       "5967    163.1\n",
       "Name: height, Length: 3332, dtype: float64"
      ]
     },
     "execution_count": 2,
     "metadata": {},
     "output_type": "execute_result"
    }
   ],
   "source": [
    "data = pd.read_csv(\"health2018.csv\")\n",
    "height = data[data.sex == 'F'].height\n",
    "height"
   ]
  },
  {
   "cell_type": "code",
   "execution_count": 3,
   "metadata": {},
   "outputs": [
    {
     "data": {
      "text/html": [
       "<div>\n",
       "<style scoped>\n",
       "    .dataframe tbody tr th:only-of-type {\n",
       "        vertical-align: middle;\n",
       "    }\n",
       "\n",
       "    .dataframe tbody tr th {\n",
       "        vertical-align: top;\n",
       "    }\n",
       "\n",
       "    .dataframe thead th {\n",
       "        text-align: right;\n",
       "    }\n",
       "</style>\n",
       "<table border=\"1\" class=\"dataframe\">\n",
       "  <thead>\n",
       "    <tr style=\"text-align: right;\">\n",
       "      <th></th>\n",
       "      <th>ID</th>\n",
       "      <th>sex</th>\n",
       "      <th>age</th>\n",
       "      <th>height</th>\n",
       "      <th>weight</th>\n",
       "      <th>waist</th>\n",
       "      <th>BMI</th>\n",
       "      <th>Blood_glucose</th>\n",
       "    </tr>\n",
       "  </thead>\n",
       "  <tbody>\n",
       "    <tr>\n",
       "      <th>0</th>\n",
       "      <td>A901020501</td>\n",
       "      <td>M</td>\n",
       "      <td>80</td>\n",
       "      <td>162.4</td>\n",
       "      <td>56.0</td>\n",
       "      <td>82.2</td>\n",
       "      <td>21.233226</td>\n",
       "      <td>103</td>\n",
       "    </tr>\n",
       "    <tr>\n",
       "      <th>1</th>\n",
       "      <td>A901021301</td>\n",
       "      <td>M</td>\n",
       "      <td>78</td>\n",
       "      <td>167.7</td>\n",
       "      <td>76.4</td>\n",
       "      <td>98.3</td>\n",
       "      <td>27.166096</td>\n",
       "      <td>127</td>\n",
       "    </tr>\n",
       "    <tr>\n",
       "      <th>2</th>\n",
       "      <td>A901021302</td>\n",
       "      <td>F</td>\n",
       "      <td>75</td>\n",
       "      <td>157.7</td>\n",
       "      <td>53.2</td>\n",
       "      <td>80.7</td>\n",
       "      <td>21.391845</td>\n",
       "      <td>134</td>\n",
       "    </tr>\n",
       "    <tr>\n",
       "      <th>3</th>\n",
       "      <td>A901022601</td>\n",
       "      <td>F</td>\n",
       "      <td>43</td>\n",
       "      <td>151.0</td>\n",
       "      <td>53.5</td>\n",
       "      <td>79.7</td>\n",
       "      <td>23.463883</td>\n",
       "      <td>99</td>\n",
       "    </tr>\n",
       "    <tr>\n",
       "      <th>4</th>\n",
       "      <td>A901023303</td>\n",
       "      <td>F</td>\n",
       "      <td>80</td>\n",
       "      <td>146.1</td>\n",
       "      <td>57.6</td>\n",
       "      <td>93.0</td>\n",
       "      <td>26.984977</td>\n",
       "      <td>111</td>\n",
       "    </tr>\n",
       "    <tr>\n",
       "      <th>...</th>\n",
       "      <td>...</td>\n",
       "      <td>...</td>\n",
       "      <td>...</td>\n",
       "      <td>...</td>\n",
       "      <td>...</td>\n",
       "      <td>...</td>\n",
       "      <td>...</td>\n",
       "      <td>...</td>\n",
       "    </tr>\n",
       "    <tr>\n",
       "      <th>5963</th>\n",
       "      <td>R904028502</td>\n",
       "      <td>F</td>\n",
       "      <td>35</td>\n",
       "      <td>159.8</td>\n",
       "      <td>55.6</td>\n",
       "      <td>70.1</td>\n",
       "      <td>21.773149</td>\n",
       "      <td>90</td>\n",
       "    </tr>\n",
       "    <tr>\n",
       "      <th>5964</th>\n",
       "      <td>R904028503</td>\n",
       "      <td>F</td>\n",
       "      <td>66</td>\n",
       "      <td>156.9</td>\n",
       "      <td>63.9</td>\n",
       "      <td>87.3</td>\n",
       "      <td>25.957028</td>\n",
       "      <td>93</td>\n",
       "    </tr>\n",
       "    <tr>\n",
       "      <th>5965</th>\n",
       "      <td>R904028902</td>\n",
       "      <td>F</td>\n",
       "      <td>73</td>\n",
       "      <td>145.2</td>\n",
       "      <td>51.8</td>\n",
       "      <td>77.2</td>\n",
       "      <td>24.569512</td>\n",
       "      <td>99</td>\n",
       "    </tr>\n",
       "    <tr>\n",
       "      <th>5966</th>\n",
       "      <td>R904029201</td>\n",
       "      <td>M</td>\n",
       "      <td>43</td>\n",
       "      <td>176.8</td>\n",
       "      <td>84.1</td>\n",
       "      <td>99.2</td>\n",
       "      <td>26.904906</td>\n",
       "      <td>108</td>\n",
       "    </tr>\n",
       "    <tr>\n",
       "      <th>5967</th>\n",
       "      <td>R904029202</td>\n",
       "      <td>F</td>\n",
       "      <td>39</td>\n",
       "      <td>163.1</td>\n",
       "      <td>59.5</td>\n",
       "      <td>81.2</td>\n",
       "      <td>22.367067</td>\n",
       "      <td>94</td>\n",
       "    </tr>\n",
       "  </tbody>\n",
       "</table>\n",
       "<p>5968 rows × 8 columns</p>\n",
       "</div>"
      ],
      "text/plain": [
       "              ID sex  age  height  weight  waist        BMI  Blood_glucose\n",
       "0     A901020501   M   80   162.4    56.0   82.2  21.233226            103\n",
       "1     A901021301   M   78   167.7    76.4   98.3  27.166096            127\n",
       "2     A901021302   F   75   157.7    53.2   80.7  21.391845            134\n",
       "3     A901022601   F   43   151.0    53.5   79.7  23.463883             99\n",
       "4     A901023303   F   80   146.1    57.6   93.0  26.984977            111\n",
       "...          ...  ..  ...     ...     ...    ...        ...            ...\n",
       "5963  R904028502   F   35   159.8    55.6   70.1  21.773149             90\n",
       "5964  R904028503   F   66   156.9    63.9   87.3  25.957028             93\n",
       "5965  R904028902   F   73   145.2    51.8   77.2  24.569512             99\n",
       "5966  R904029201   M   43   176.8    84.1   99.2  26.904906            108\n",
       "5967  R904029202   F   39   163.1    59.5   81.2  22.367067             94\n",
       "\n",
       "[5968 rows x 8 columns]"
      ]
     },
     "execution_count": 3,
     "metadata": {},
     "output_type": "execute_result"
    }
   ],
   "source": [
    "data"
   ]
  },
  {
   "cell_type": "markdown",
   "metadata": {},
   "source": [
    "### 1-1. 샘플사이즈 10일 때, 표본평균의 90% 신뢰구간을 구하시오.\n",
    "힌트: 자유도 9의 t분포 사용."
   ]
  },
  {
   "cell_type": "code",
   "execution_count": 4,
   "metadata": {},
   "outputs": [
    {
     "data": {
      "text/plain": [
       "array([148.5, 168.4, 158.8, 160.6, 157.9, 148.7, 169. , 155.1, 164.5,\n",
       "       165. ])"
      ]
     },
     "execution_count": 4,
     "metadata": {},
     "output_type": "execute_result"
    }
   ],
   "source": [
    "sample= np.random.choice(\n",
    "    height, size = 10, replace = False)\n",
    "sample"
   ]
  },
  {
   "cell_type": "code",
   "execution_count": 5,
   "metadata": {},
   "outputs": [
    {
     "data": {
      "text/plain": [
       "159.65"
      ]
     },
     "execution_count": 5,
     "metadata": {},
     "output_type": "execute_result"
    }
   ],
   "source": [
    "mu = np.mean(sample)\n",
    "mu"
   ]
  },
  {
   "cell_type": "code",
   "execution_count": 6,
   "metadata": {},
   "outputs": [
    {
     "data": {
      "text/plain": [
       "9"
      ]
     },
     "execution_count": 6,
     "metadata": {},
     "output_type": "execute_result"
    }
   ],
   "source": [
    "df = len(sample)-1\n",
    "df"
   ]
  },
  {
   "cell_type": "code",
   "execution_count": 7,
   "metadata": {},
   "outputs": [
    {
     "data": {
      "text/plain": [
       "2.323180291468286"
      ]
     },
     "execution_count": 7,
     "metadata": {},
     "output_type": "execute_result"
    }
   ],
   "source": [
    "sigma = np.std(sample, ddof = 1)\n",
    "se = sigma / np.sqrt(len(sample)) #표본평균/루트N\n",
    "se"
   ]
  },
  {
   "cell_type": "code",
   "execution_count": 8,
   "metadata": {},
   "outputs": [
    {
     "data": {
      "text/plain": [
       "(155.39134816282345, 163.90865183717656)"
      ]
     },
     "execution_count": 8,
     "metadata": {},
     "output_type": "execute_result"
    }
   ],
   "source": [
    "interval = stats.t.interval(alpha = 0.90, df = df, loc = mu, scale = se) # 95프로 신뢰구간 \n",
    "interval\n",
    "# 교수님 예상값(153.72046372603444, 161.35306568573083)"
   ]
  },
  {
   "cell_type": "markdown",
   "metadata": {},
   "source": [
    "### 1-2. 복원추출로 샘플사이즈 10의 표본평균을 1000번 구하고, 그중 위 신뢰구간에 들어가는 비율을 계산하시오."
   ]
  },
  {
   "cell_type": "code",
   "execution_count": 83,
   "metadata": {},
   "outputs": [
    {
     "name": "stdout",
     "output_type": "stream",
     "text": [
      "157.53676470588263\n",
      "6.582459829579061\n"
     ]
    }
   ],
   "source": [
    "loc = np.mean(height)\n",
    "scale = np.std(height)\n",
    "print(loc)\n",
    "print(scale)"
   ]
  },
  {
   "cell_type": "code",
   "execution_count": 97,
   "metadata": {},
   "outputs": [],
   "source": [
    "be_included_array = np.zeros(1000, dtype = \"bool\")"
   ]
  },
  {
   "cell_type": "code",
   "execution_count": 98,
   "metadata": {},
   "outputs": [],
   "source": [
    "np.random.seed(1)\n",
    "norm_dist = stats.norm(loc = loc, scale = scale) # 모평균, 모표준편차\n",
    "for i in range(0, 1000):\n",
    "    sample = norm_dist.rvs(size = 10) # 10개씩 뽑음\n",
    "    df = len(sample) - 1 # 자유도\n",
    "    mu = np.mean(sample) # 표본평균\n",
    "    std = np.std(sample, ddof = 1) #표본표준편차\n",
    "    se = std / np.sqrt(len(sample)) #STANDARD ERROR\n",
    "    interval = stats.t.interval(0.90, df, mu, se) # 신뢰구간\n",
    "    if(interval[0] <= loc and interval[1] >= loc):\n",
    "        be_included_array[i] = True"
   ]
  },
  {
   "cell_type": "code",
   "execution_count": 99,
   "metadata": {},
   "outputs": [
    {
     "data": {
      "text/plain": [
       "array([ True,  True,  True,  True,  True,  True,  True,  True,  True,\n",
       "        True,  True,  True,  True,  True, False,  True,  True,  True,\n",
       "        True, False,  True,  True,  True,  True,  True,  True,  True,\n",
       "        True,  True,  True,  True,  True,  True,  True,  True,  True,\n",
       "        True,  True,  True,  True,  True,  True,  True, False,  True,\n",
       "        True,  True,  True,  True,  True,  True,  True, False,  True,\n",
       "        True,  True,  True, False,  True, False,  True,  True,  True,\n",
       "        True,  True,  True,  True,  True,  True,  True,  True,  True,\n",
       "        True,  True,  True,  True,  True,  True,  True,  True,  True,\n",
       "        True,  True, False,  True, False,  True,  True,  True,  True,\n",
       "        True,  True,  True,  True,  True,  True,  True,  True,  True,\n",
       "        True,  True,  True,  True,  True,  True,  True, False,  True,\n",
       "        True, False,  True,  True,  True,  True, False,  True,  True,\n",
       "        True,  True,  True,  True,  True, False,  True,  True,  True,\n",
       "        True,  True,  True,  True,  True,  True,  True,  True,  True,\n",
       "        True, False,  True,  True,  True,  True,  True,  True,  True,\n",
       "        True,  True,  True,  True,  True,  True,  True,  True,  True,\n",
       "        True,  True,  True,  True,  True,  True,  True,  True, False,\n",
       "        True,  True,  True,  True,  True,  True,  True,  True,  True,\n",
       "        True,  True,  True,  True,  True,  True,  True,  True, False,\n",
       "        True,  True,  True,  True,  True,  True,  True,  True,  True,\n",
       "        True,  True,  True,  True,  True,  True,  True, False,  True,\n",
       "        True,  True,  True,  True, False,  True,  True,  True,  True,\n",
       "        True,  True,  True,  True,  True,  True,  True,  True,  True,\n",
       "        True, False,  True, False,  True,  True,  True,  True,  True,\n",
       "        True,  True,  True,  True,  True, False,  True,  True,  True,\n",
       "       False,  True,  True,  True,  True,  True,  True, False,  True,\n",
       "        True,  True,  True, False,  True,  True,  True,  True,  True,\n",
       "        True,  True,  True,  True,  True,  True,  True,  True,  True,\n",
       "        True, False,  True, False,  True,  True,  True, False,  True,\n",
       "        True,  True,  True,  True,  True,  True,  True,  True,  True,\n",
       "        True,  True,  True,  True, False,  True,  True,  True,  True,\n",
       "        True,  True,  True,  True,  True,  True,  True,  True,  True,\n",
       "        True,  True,  True,  True,  True, False,  True,  True,  True,\n",
       "       False,  True,  True,  True,  True,  True,  True,  True,  True,\n",
       "        True,  True,  True,  True,  True,  True,  True,  True,  True,\n",
       "        True,  True,  True,  True,  True, False,  True,  True,  True,\n",
       "        True,  True,  True,  True,  True,  True, False,  True,  True,\n",
       "        True,  True,  True,  True,  True, False,  True,  True, False,\n",
       "        True,  True,  True,  True,  True,  True,  True,  True,  True,\n",
       "        True,  True,  True,  True,  True, False,  True,  True, False,\n",
       "        True,  True,  True,  True,  True,  True,  True,  True,  True,\n",
       "        True,  True,  True,  True,  True,  True,  True,  True,  True,\n",
       "        True,  True,  True,  True,  True,  True,  True,  True,  True,\n",
       "        True,  True,  True,  True, False,  True,  True,  True,  True,\n",
       "        True,  True,  True,  True,  True,  True,  True,  True,  True,\n",
       "        True,  True,  True,  True,  True,  True,  True,  True,  True,\n",
       "        True,  True,  True,  True,  True,  True, False,  True,  True,\n",
       "        True,  True,  True,  True,  True,  True,  True,  True,  True,\n",
       "       False,  True,  True,  True,  True,  True,  True,  True,  True,\n",
       "        True,  True,  True, False,  True,  True,  True,  True,  True,\n",
       "        True, False,  True,  True,  True, False,  True,  True, False,\n",
       "        True,  True, False, False,  True,  True,  True,  True, False,\n",
       "       False,  True,  True,  True,  True,  True,  True,  True,  True,\n",
       "        True,  True,  True,  True,  True,  True,  True,  True, False,\n",
       "        True,  True,  True,  True, False,  True,  True,  True,  True,\n",
       "        True,  True,  True,  True, False,  True,  True,  True,  True,\n",
       "        True,  True,  True, False,  True,  True,  True,  True,  True,\n",
       "        True,  True,  True,  True,  True,  True,  True,  True,  True,\n",
       "        True,  True,  True,  True,  True,  True, False,  True,  True,\n",
       "        True,  True,  True,  True,  True,  True,  True,  True,  True,\n",
       "       False,  True,  True,  True,  True,  True,  True,  True,  True,\n",
       "       False,  True,  True,  True, False,  True,  True,  True,  True,\n",
       "       False,  True,  True,  True,  True,  True,  True,  True,  True,\n",
       "        True,  True,  True, False,  True,  True,  True,  True,  True,\n",
       "        True,  True,  True,  True,  True,  True,  True,  True,  True,\n",
       "        True,  True,  True,  True,  True,  True,  True,  True,  True,\n",
       "        True,  True,  True,  True,  True,  True, False,  True,  True,\n",
       "        True,  True,  True,  True,  True,  True,  True, False,  True,\n",
       "        True,  True,  True,  True,  True,  True,  True,  True,  True,\n",
       "        True,  True,  True,  True,  True,  True,  True,  True,  True,\n",
       "        True,  True, False,  True,  True,  True,  True,  True,  True,\n",
       "        True,  True,  True,  True,  True,  True,  True,  True,  True,\n",
       "       False,  True,  True,  True,  True,  True,  True,  True, False,\n",
       "        True,  True,  True,  True,  True,  True,  True,  True,  True,\n",
       "        True,  True,  True,  True, False,  True,  True,  True,  True,\n",
       "        True,  True,  True,  True,  True,  True,  True,  True,  True,\n",
       "        True,  True,  True,  True,  True,  True,  True, False,  True,\n",
       "        True,  True,  True,  True,  True,  True,  True,  True,  True,\n",
       "        True,  True,  True,  True,  True, False,  True,  True, False,\n",
       "        True,  True,  True,  True,  True,  True,  True,  True,  True,\n",
       "        True,  True,  True,  True, False,  True,  True,  True,  True,\n",
       "        True, False,  True,  True,  True,  True, False,  True,  True,\n",
       "        True,  True,  True, False,  True,  True,  True,  True,  True,\n",
       "        True,  True,  True,  True,  True,  True,  True,  True,  True,\n",
       "        True,  True,  True,  True, False,  True,  True,  True,  True,\n",
       "       False, False, False,  True,  True,  True,  True,  True,  True,\n",
       "        True,  True,  True,  True,  True,  True,  True,  True,  True,\n",
       "        True,  True,  True,  True, False,  True,  True, False,  True,\n",
       "       False,  True,  True,  True,  True,  True,  True,  True,  True,\n",
       "        True,  True,  True,  True,  True,  True,  True,  True,  True,\n",
       "        True,  True,  True,  True, False,  True,  True,  True,  True,\n",
       "        True,  True,  True,  True, False,  True,  True, False,  True,\n",
       "        True, False,  True,  True, False,  True,  True,  True,  True,\n",
       "        True,  True,  True,  True,  True,  True,  True,  True, False,\n",
       "        True,  True,  True,  True,  True,  True,  True,  True, False,\n",
       "        True,  True,  True,  True,  True,  True,  True,  True,  True,\n",
       "        True,  True,  True,  True, False,  True, False,  True,  True,\n",
       "        True,  True,  True,  True,  True, False,  True,  True,  True,\n",
       "        True,  True,  True,  True,  True,  True,  True,  True, False,\n",
       "        True,  True, False,  True,  True,  True,  True,  True, False,\n",
       "        True,  True,  True,  True, False,  True,  True,  True,  True,\n",
       "        True,  True,  True,  True,  True,  True,  True,  True, False,\n",
       "        True,  True,  True,  True,  True,  True,  True,  True,  True,\n",
       "        True,  True,  True,  True,  True,  True,  True,  True,  True,\n",
       "        True,  True,  True,  True,  True,  True,  True, False,  True,\n",
       "        True, False,  True,  True,  True,  True,  True,  True,  True,\n",
       "        True,  True,  True,  True,  True,  True,  True, False,  True,\n",
       "       False, False,  True,  True,  True,  True,  True,  True,  True,\n",
       "        True,  True,  True,  True,  True,  True, False,  True, False,\n",
       "        True,  True,  True,  True,  True,  True,  True,  True,  True,\n",
       "        True])"
      ]
     },
     "execution_count": 99,
     "metadata": {},
     "output_type": "execute_result"
    }
   ],
   "source": [
    "be_included_array"
   ]
  },
  {
   "cell_type": "code",
   "execution_count": 100,
   "metadata": {},
   "outputs": [
    {
     "data": {
      "text/plain": [
       "0.902"
      ]
     },
     "execution_count": 100,
     "metadata": {},
     "output_type": "execute_result"
    }
   ],
   "source": [
    "sum(be_included_array) / len(be_included_array)\n",
    "#교수님 예상값 0.936"
   ]
  },
  {
   "cell_type": "markdown",
   "metadata": {},
   "source": [
    "---"
   ]
  },
  {
   "cell_type": "markdown",
   "metadata": {},
   "source": [
    "## 2. t검정과 그룹 비교 시각화\n",
    "아래 코드를 이용해 19세 남성과 19세 여성의 데이터를 10개씩 추출해 data2에 저장한다. "
   ]
  },
  {
   "cell_type": "code",
   "execution_count": 14,
   "metadata": {},
   "outputs": [
    {
     "data": {
      "text/html": [
       "<div>\n",
       "<style scoped>\n",
       "    .dataframe tbody tr th:only-of-type {\n",
       "        vertical-align: middle;\n",
       "    }\n",
       "\n",
       "    .dataframe tbody tr th {\n",
       "        vertical-align: top;\n",
       "    }\n",
       "\n",
       "    .dataframe thead th {\n",
       "        text-align: right;\n",
       "    }\n",
       "</style>\n",
       "<table border=\"1\" class=\"dataframe\">\n",
       "  <thead>\n",
       "    <tr style=\"text-align: right;\">\n",
       "      <th></th>\n",
       "      <th>ID</th>\n",
       "      <th>sex</th>\n",
       "      <th>age</th>\n",
       "      <th>height</th>\n",
       "      <th>weight</th>\n",
       "      <th>waist</th>\n",
       "      <th>BMI</th>\n",
       "      <th>Blood_glucose</th>\n",
       "    </tr>\n",
       "  </thead>\n",
       "  <tbody>\n",
       "    <tr>\n",
       "      <th>257</th>\n",
       "      <td>A908029804</td>\n",
       "      <td>M</td>\n",
       "      <td>19</td>\n",
       "      <td>175.0</td>\n",
       "      <td>76.1</td>\n",
       "      <td>84.2</td>\n",
       "      <td>24.848980</td>\n",
       "      <td>89</td>\n",
       "    </tr>\n",
       "    <tr>\n",
       "      <th>348</th>\n",
       "      <td>A912023404</td>\n",
       "      <td>M</td>\n",
       "      <td>19</td>\n",
       "      <td>174.2</td>\n",
       "      <td>56.9</td>\n",
       "      <td>68.8</td>\n",
       "      <td>18.750634</td>\n",
       "      <td>86</td>\n",
       "    </tr>\n",
       "    <tr>\n",
       "      <th>355</th>\n",
       "      <td>A912027503</td>\n",
       "      <td>M</td>\n",
       "      <td>19</td>\n",
       "      <td>175.1</td>\n",
       "      <td>83.3</td>\n",
       "      <td>85.7</td>\n",
       "      <td>27.168941</td>\n",
       "      <td>85</td>\n",
       "    </tr>\n",
       "    <tr>\n",
       "      <th>940</th>\n",
       "      <td>A931020901</td>\n",
       "      <td>M</td>\n",
       "      <td>19</td>\n",
       "      <td>183.3</td>\n",
       "      <td>70.3</td>\n",
       "      <td>74.6</td>\n",
       "      <td>20.923310</td>\n",
       "      <td>95</td>\n",
       "    </tr>\n",
       "    <tr>\n",
       "      <th>1271</th>\n",
       "      <td>B906020503</td>\n",
       "      <td>M</td>\n",
       "      <td>19</td>\n",
       "      <td>174.1</td>\n",
       "      <td>65.2</td>\n",
       "      <td>69.4</td>\n",
       "      <td>21.510478</td>\n",
       "      <td>88</td>\n",
       "    </tr>\n",
       "    <tr>\n",
       "      <th>1673</th>\n",
       "      <td>C905020203</td>\n",
       "      <td>M</td>\n",
       "      <td>19</td>\n",
       "      <td>169.9</td>\n",
       "      <td>65.0</td>\n",
       "      <td>72.4</td>\n",
       "      <td>22.517833</td>\n",
       "      <td>88</td>\n",
       "    </tr>\n",
       "    <tr>\n",
       "      <th>1787</th>\n",
       "      <td>C909021804</td>\n",
       "      <td>M</td>\n",
       "      <td>19</td>\n",
       "      <td>171.1</td>\n",
       "      <td>79.4</td>\n",
       "      <td>90.6</td>\n",
       "      <td>27.121923</td>\n",
       "      <td>92</td>\n",
       "    </tr>\n",
       "    <tr>\n",
       "      <th>1819</th>\n",
       "      <td>D901021703</td>\n",
       "      <td>M</td>\n",
       "      <td>19</td>\n",
       "      <td>176.6</td>\n",
       "      <td>60.6</td>\n",
       "      <td>70.6</td>\n",
       "      <td>19.430824</td>\n",
       "      <td>85</td>\n",
       "    </tr>\n",
       "    <tr>\n",
       "      <th>1934</th>\n",
       "      <td>D904026404</td>\n",
       "      <td>M</td>\n",
       "      <td>19</td>\n",
       "      <td>178.4</td>\n",
       "      <td>68.1</td>\n",
       "      <td>81.9</td>\n",
       "      <td>21.397223</td>\n",
       "      <td>87</td>\n",
       "    </tr>\n",
       "    <tr>\n",
       "      <th>2292</th>\n",
       "      <td>E905027103</td>\n",
       "      <td>M</td>\n",
       "      <td>19</td>\n",
       "      <td>180.7</td>\n",
       "      <td>72.2</td>\n",
       "      <td>79.4</td>\n",
       "      <td>22.111637</td>\n",
       "      <td>95</td>\n",
       "    </tr>\n",
       "    <tr>\n",
       "      <th>386</th>\n",
       "      <td>A913025104</td>\n",
       "      <td>F</td>\n",
       "      <td>19</td>\n",
       "      <td>154.2</td>\n",
       "      <td>45.9</td>\n",
       "      <td>66.7</td>\n",
       "      <td>19.303850</td>\n",
       "      <td>92</td>\n",
       "    </tr>\n",
       "    <tr>\n",
       "      <th>491</th>\n",
       "      <td>A917022703</td>\n",
       "      <td>F</td>\n",
       "      <td>19</td>\n",
       "      <td>164.9</td>\n",
       "      <td>57.6</td>\n",
       "      <td>66.3</td>\n",
       "      <td>21.182693</td>\n",
       "      <td>87</td>\n",
       "    </tr>\n",
       "    <tr>\n",
       "      <th>623</th>\n",
       "      <td>A921031302</td>\n",
       "      <td>F</td>\n",
       "      <td>19</td>\n",
       "      <td>159.9</td>\n",
       "      <td>51.0</td>\n",
       "      <td>66.7</td>\n",
       "      <td>19.946801</td>\n",
       "      <td>84</td>\n",
       "    </tr>\n",
       "    <tr>\n",
       "      <th>704</th>\n",
       "      <td>A924024704</td>\n",
       "      <td>F</td>\n",
       "      <td>19</td>\n",
       "      <td>159.4</td>\n",
       "      <td>50.8</td>\n",
       "      <td>67.3</td>\n",
       "      <td>19.993419</td>\n",
       "      <td>96</td>\n",
       "    </tr>\n",
       "    <tr>\n",
       "      <th>803</th>\n",
       "      <td>A926030403</td>\n",
       "      <td>F</td>\n",
       "      <td>19</td>\n",
       "      <td>162.2</td>\n",
       "      <td>61.5</td>\n",
       "      <td>77.5</td>\n",
       "      <td>23.376173</td>\n",
       "      <td>90</td>\n",
       "    </tr>\n",
       "    <tr>\n",
       "      <th>1192</th>\n",
       "      <td>B903021404</td>\n",
       "      <td>F</td>\n",
       "      <td>19</td>\n",
       "      <td>164.2</td>\n",
       "      <td>44.3</td>\n",
       "      <td>58.6</td>\n",
       "      <td>16.430751</td>\n",
       "      <td>87</td>\n",
       "    </tr>\n",
       "    <tr>\n",
       "      <th>1314</th>\n",
       "      <td>B907022503</td>\n",
       "      <td>F</td>\n",
       "      <td>19</td>\n",
       "      <td>159.3</td>\n",
       "      <td>49.8</td>\n",
       "      <td>66.5</td>\n",
       "      <td>19.624463</td>\n",
       "      <td>77</td>\n",
       "    </tr>\n",
       "    <tr>\n",
       "      <th>1619</th>\n",
       "      <td>C903028801</td>\n",
       "      <td>F</td>\n",
       "      <td>19</td>\n",
       "      <td>164.2</td>\n",
       "      <td>52.3</td>\n",
       "      <td>65.0</td>\n",
       "      <td>19.397930</td>\n",
       "      <td>85</td>\n",
       "    </tr>\n",
       "    <tr>\n",
       "      <th>1693</th>\n",
       "      <td>C905029702</td>\n",
       "      <td>F</td>\n",
       "      <td>19</td>\n",
       "      <td>162.0</td>\n",
       "      <td>55.0</td>\n",
       "      <td>63.5</td>\n",
       "      <td>20.957171</td>\n",
       "      <td>91</td>\n",
       "    </tr>\n",
       "    <tr>\n",
       "      <th>1816</th>\n",
       "      <td>D901020704</td>\n",
       "      <td>F</td>\n",
       "      <td>19</td>\n",
       "      <td>163.1</td>\n",
       "      <td>52.6</td>\n",
       "      <td>71.5</td>\n",
       "      <td>19.773239</td>\n",
       "      <td>83</td>\n",
       "    </tr>\n",
       "  </tbody>\n",
       "</table>\n",
       "</div>"
      ],
      "text/plain": [
       "              ID sex  age  height  weight  waist        BMI  Blood_glucose\n",
       "257   A908029804   M   19   175.0    76.1   84.2  24.848980             89\n",
       "348   A912023404   M   19   174.2    56.9   68.8  18.750634             86\n",
       "355   A912027503   M   19   175.1    83.3   85.7  27.168941             85\n",
       "940   A931020901   M   19   183.3    70.3   74.6  20.923310             95\n",
       "1271  B906020503   M   19   174.1    65.2   69.4  21.510478             88\n",
       "1673  C905020203   M   19   169.9    65.0   72.4  22.517833             88\n",
       "1787  C909021804   M   19   171.1    79.4   90.6  27.121923             92\n",
       "1819  D901021703   M   19   176.6    60.6   70.6  19.430824             85\n",
       "1934  D904026404   M   19   178.4    68.1   81.9  21.397223             87\n",
       "2292  E905027103   M   19   180.7    72.2   79.4  22.111637             95\n",
       "386   A913025104   F   19   154.2    45.9   66.7  19.303850             92\n",
       "491   A917022703   F   19   164.9    57.6   66.3  21.182693             87\n",
       "623   A921031302   F   19   159.9    51.0   66.7  19.946801             84\n",
       "704   A924024704   F   19   159.4    50.8   67.3  19.993419             96\n",
       "803   A926030403   F   19   162.2    61.5   77.5  23.376173             90\n",
       "1192  B903021404   F   19   164.2    44.3   58.6  16.430751             87\n",
       "1314  B907022503   F   19   159.3    49.8   66.5  19.624463             77\n",
       "1619  C903028801   F   19   164.2    52.3   65.0  19.397930             85\n",
       "1693  C905029702   F   19   162.0    55.0   63.5  20.957171             91\n",
       "1816  D901020704   F   19   163.1    52.6   71.5  19.773239             83"
      ]
     },
     "execution_count": 14,
     "metadata": {},
     "output_type": "execute_result"
    }
   ],
   "source": [
    "data_man = data[(data.age==19) & (data.sex=='M')][0:10]\n",
    "data_woman = data[(data.age==19) & (data.sex=='F')][0:10]\n",
    "\n",
    "data2 = pd.concat([data_man, data_woman])\n",
    "data2"
   ]
  },
  {
   "cell_type": "code",
   "execution_count": 15,
   "metadata": {},
   "outputs": [
    {
     "data": {
      "text/plain": [
       "<AxesSubplot:xlabel='sex', ylabel='BMI'>"
      ]
     },
     "execution_count": 15,
     "metadata": {},
     "output_type": "execute_result"
    },
    {
     "data": {
      "image/png": "[encoded data removed]",
      "text/plain": [
       "<Figure size 432x288 with 1 Axes>"
      ]
     },
     "metadata": {
      "needs_background": "light"
     },
     "output_type": "display_data"
    }
   ],
   "source": [
    "sns.barplot(data = data2, x='sex', y='BMI')"
   ]
  },
  {
   "cell_type": "markdown",
   "metadata": {},
   "source": [
    "### 2-1. 위와 같이 sns.barplot을 이용해 남성과 여성의 BMI 평균값을 막대그래프로 표시하였다. 남성과 여성 표본에서 95% 신뢰구간을 t분포에 기반해 계산하고, 그래프의 오차막대와 일치하는지 확인하라."
   ]
  },
  {
   "cell_type": "code",
   "execution_count": 16,
   "metadata": {},
   "outputs": [
    {
     "data": {
      "text/plain": [
       "F    3332\n",
       "M    2636\n",
       "Name: sex, dtype: int64"
      ]
     },
     "execution_count": 16,
     "metadata": {},
     "output_type": "execute_result"
    }
   ],
   "source": [
    "data.sex.value_counts()"
   ]
  },
  {
   "cell_type": "code",
   "execution_count": 17,
   "metadata": {},
   "outputs": [
    {
     "name": "stdout",
     "output_type": "stream",
     "text": [
      "24.539226925868707\n",
      "23.506470605192092\n"
     ]
    }
   ],
   "source": [
    "m_loc=np.mean(data[data.sex == 'M'].BMI)\n",
    "w_loc=np.mean(data[data.sex == 'F'].BMI)\n",
    "print(m_loc)\n",
    "print(w_loc)"
   ]
  },
  {
   "cell_type": "code",
   "execution_count": 18,
   "metadata": {},
   "outputs": [
    {
     "name": "stdout",
     "output_type": "stream",
     "text": [
      "22.57817834\n",
      "19.998649148000002\n"
     ]
    }
   ],
   "source": [
    "#ans1\n",
    "m_mu = np.mean(data_man.BMI)\n",
    "w_mu = np.mean(data_woman.BMI)\n",
    "print(m_mu)\n",
    "print(w_mu)"
   ]
  },
  {
   "cell_type": "code",
   "execution_count": 19,
   "metadata": {},
   "outputs": [
    {
     "name": "stdout",
     "output_type": "stream",
     "text": [
      "2.9236149412697383\n",
      "1.7478697449757346\n"
     ]
    }
   ],
   "source": [
    "#ans2\n",
    "m_sigma = np.std(data_man.BMI,  ddof = 1)\n",
    "w_sigma = np.std(data_woman.BMI,  ddof = 1)\n",
    "print(m_sigma)\n",
    "print(w_sigma)"
   ]
  },
  {
   "cell_type": "code",
   "execution_count": 20,
   "metadata": {},
   "outputs": [
    {
     "name": "stdout",
     "output_type": "stream",
     "text": [
      "0.9245282215711781\n",
      "0.5527249447420968\n"
     ]
    }
   ],
   "source": [
    "m_se = m_sigma / np.sqrt(10)\n",
    "w_se = w_sigma / np.sqrt(10)\n",
    "print(m_se)\n",
    "print(w_se)"
   ]
  },
  {
   "cell_type": "code",
   "execution_count": 21,
   "metadata": {},
   "outputs": [
    {
     "data": {
      "text/plain": [
       "(20.48675020141657, 24.669606478583432)"
      ]
     },
     "execution_count": 21,
     "metadata": {},
     "output_type": "execute_result"
    }
   ],
   "source": [
    "stats.t.interval(\n",
    "    alpha = 0.95, df = 9, loc = m_mu, scale = m_se)"
   ]
  },
  {
   "cell_type": "code",
   "execution_count": 22,
   "metadata": {},
   "outputs": [
    {
     "data": {
      "text/plain": [
       "(18.74829845522605, 21.248999840773955)"
      ]
     },
     "execution_count": 22,
     "metadata": {},
     "output_type": "execute_result"
    }
   ],
   "source": [
    "stats.t.interval(\n",
    "    alpha = 0.95, df = 9, loc = w_mu, scale = w_se)"
   ]
  },
  {
   "cell_type": "markdown",
   "metadata": {},
   "source": [
    "### 2-2. 대응표본 t검정과 독립표본 t검정을 사용해 남성과 여성의 BMI 평균이 다른지 검정하라 (두 p값을 비교해보라).\n",
    "이 경우, 대응표본 t검정과 독립표본 t검정 중 어느 방법이 더 적절한가? 왜 그러한지 설명하시오."
   ]
  },
  {
   "cell_type": "code",
   "execution_count": 23,
   "metadata": {},
   "outputs": [],
   "source": [
    "#대웅표본 t검정"
   ]
  },
  {
   "cell_type": "code",
   "execution_count": 24,
   "metadata": {},
   "outputs": [
    {
     "name": "stdout",
     "output_type": "stream",
     "text": [
      "[24.849 18.751 27.169 20.923 21.51  22.518 27.122 19.431 21.397 22.112]\n",
      "[19.304 21.183 19.947 19.993 23.376 16.431 19.624 19.398 20.957 19.773]\n"
     ]
    },
    {
     "data": {
      "text/plain": [
       "array([ 5.545, -2.432,  7.222,  0.93 , -1.866,  6.087,  7.497,  0.033,\n",
       "        0.44 ,  2.338])"
      ]
     },
     "execution_count": 24,
     "metadata": {},
     "output_type": "execute_result"
    }
   ],
   "source": [
    "# 약을 먹기 전과 먹기 후의 표본평균\n",
    "man = data2.query('sex == \"M\"')[\"BMI\"]\n",
    "woman = data2.query('sex == \"F\"')[\"BMI\"]\n",
    "# 배열형으로 변환\n",
    "man = np.array(man)\n",
    "woman = np.array(woman)\n",
    "print(man)\n",
    "print(woman)\n",
    "# 차이 계산\n",
    "diff = man - woman\n",
    "diff"
   ]
  },
  {
   "cell_type": "code",
   "execution_count": 25,
   "metadata": {},
   "outputs": [
    {
     "data": {
      "text/plain": [
       "21.288"
      ]
     },
     "execution_count": 25,
     "metadata": {},
     "output_type": "execute_result"
    }
   ],
   "source": [
    "np.mean(data2.BMI)"
   ]
  },
  {
   "cell_type": "code",
   "execution_count": 26,
   "metadata": {},
   "outputs": [
    {
     "data": {
      "text/plain": [
       "Ttest_1sampResult(statistic=-15.839839571333496, pvalue=7.022383731838118e-08)"
      ]
     },
     "execution_count": 26,
     "metadata": {},
     "output_type": "execute_result"
    }
   ],
   "source": [
    "stats.ttest_1samp(diff,np.mean(data2.BMI))"
   ]
  },
  {
   "cell_type": "code",
   "execution_count": 27,
   "metadata": {},
   "outputs": [
    {
     "data": {
      "text/plain": [
       "Ttest_relResult(statistic=2.1839532152377092, pvalue=0.05680736151004805)"
      ]
     },
     "execution_count": 27,
     "metadata": {},
     "output_type": "execute_result"
    }
   ],
   "source": [
    "stats.ttest_rel(man, woman)"
   ]
  },
  {
   "cell_type": "code",
   "execution_count": 28,
   "metadata": {},
   "outputs": [],
   "source": [
    "#독립표본 t검정"
   ]
  },
  {
   "cell_type": "code",
   "execution_count": 29,
   "metadata": {},
   "outputs": [
    {
     "data": {
      "text/plain": [
       "Ttest_indResult(statistic=2.394767153966043, pvalue=0.03042517147864766)"
      ]
     },
     "execution_count": 29,
     "metadata": {},
     "output_type": "execute_result"
    }
   ],
   "source": [
    "stats.ttest_ind(man, woman, equal_var = False)"
   ]
  },
  {
   "cell_type": "code",
   "execution_count": 30,
   "metadata": {},
   "outputs": [],
   "source": [
    "#답\n",
    "#2.1839532152377092 0.05680736151004805\n",
    "#2.394767153966043 0.03042517147864766\n",
    "# 거의 비슷한 값으로 나온다 "
   ]
  },
  {
   "cell_type": "markdown",
   "metadata": {},
   "source": [
    "---"
   ]
  },
  {
   "cell_type": "markdown",
   "metadata": {},
   "source": [
    "## 3. 분할표 검정 및 시각화"
   ]
  },
  {
   "cell_type": "code",
   "execution_count": 31,
   "metadata": {},
   "outputs": [
    {
     "data": {
      "text/plain": [
       "111"
      ]
     },
     "execution_count": 31,
     "metadata": {},
     "output_type": "execute_result"
    }
   ],
   "source": [
    "data3 = data[data.age<=20]    # 만 19~20세 남녀.\n",
    "len(data3)"
   ]
  },
  {
   "cell_type": "code",
   "execution_count": 32,
   "metadata": {},
   "outputs": [
    {
     "data": {
      "text/html": [
       "<div>\n",
       "<style scoped>\n",
       "    .dataframe tbody tr th:only-of-type {\n",
       "        vertical-align: middle;\n",
       "    }\n",
       "\n",
       "    .dataframe tbody tr th {\n",
       "        vertical-align: top;\n",
       "    }\n",
       "\n",
       "    .dataframe thead th {\n",
       "        text-align: right;\n",
       "    }\n",
       "</style>\n",
       "<table border=\"1\" class=\"dataframe\">\n",
       "  <thead>\n",
       "    <tr style=\"text-align: right;\">\n",
       "      <th></th>\n",
       "      <th>ID</th>\n",
       "      <th>sex</th>\n",
       "      <th>age</th>\n",
       "      <th>height</th>\n",
       "      <th>weight</th>\n",
       "      <th>waist</th>\n",
       "      <th>BMI</th>\n",
       "      <th>Blood_glucose</th>\n",
       "    </tr>\n",
       "  </thead>\n",
       "  <tbody>\n",
       "    <tr>\n",
       "      <th>163</th>\n",
       "      <td>A906023903</td>\n",
       "      <td>F</td>\n",
       "      <td>20</td>\n",
       "      <td>166.2</td>\n",
       "      <td>57.5</td>\n",
       "      <td>70.0</td>\n",
       "      <td>20.816409</td>\n",
       "      <td>91</td>\n",
       "    </tr>\n",
       "    <tr>\n",
       "      <th>182</th>\n",
       "      <td>A906029304</td>\n",
       "      <td>M</td>\n",
       "      <td>20</td>\n",
       "      <td>167.2</td>\n",
       "      <td>58.4</td>\n",
       "      <td>75.3</td>\n",
       "      <td>20.890090</td>\n",
       "      <td>95</td>\n",
       "    </tr>\n",
       "    <tr>\n",
       "      <th>197</th>\n",
       "      <td>A907023103</td>\n",
       "      <td>F</td>\n",
       "      <td>20</td>\n",
       "      <td>164.0</td>\n",
       "      <td>57.4</td>\n",
       "      <td>73.2</td>\n",
       "      <td>21.341463</td>\n",
       "      <td>84</td>\n",
       "    </tr>\n",
       "    <tr>\n",
       "      <th>256</th>\n",
       "      <td>A908029803</td>\n",
       "      <td>F</td>\n",
       "      <td>20</td>\n",
       "      <td>157.2</td>\n",
       "      <td>52.7</td>\n",
       "      <td>68.3</td>\n",
       "      <td>21.325810</td>\n",
       "      <td>89</td>\n",
       "    </tr>\n",
       "    <tr>\n",
       "      <th>257</th>\n",
       "      <td>A908029804</td>\n",
       "      <td>M</td>\n",
       "      <td>19</td>\n",
       "      <td>175.0</td>\n",
       "      <td>76.1</td>\n",
       "      <td>84.2</td>\n",
       "      <td>24.848980</td>\n",
       "      <td>89</td>\n",
       "    </tr>\n",
       "    <tr>\n",
       "      <th>...</th>\n",
       "      <td>...</td>\n",
       "      <td>...</td>\n",
       "      <td>...</td>\n",
       "      <td>...</td>\n",
       "      <td>...</td>\n",
       "      <td>...</td>\n",
       "      <td>...</td>\n",
       "      <td>...</td>\n",
       "    </tr>\n",
       "    <tr>\n",
       "      <th>5511</th>\n",
       "      <td>O905024003</td>\n",
       "      <td>F</td>\n",
       "      <td>19</td>\n",
       "      <td>164.9</td>\n",
       "      <td>52.9</td>\n",
       "      <td>67.2</td>\n",
       "      <td>19.454244</td>\n",
       "      <td>88</td>\n",
       "    </tr>\n",
       "    <tr>\n",
       "      <th>5550</th>\n",
       "      <td>O906025503</td>\n",
       "      <td>M</td>\n",
       "      <td>19</td>\n",
       "      <td>173.4</td>\n",
       "      <td>78.4</td>\n",
       "      <td>83.7</td>\n",
       "      <td>26.074613</td>\n",
       "      <td>97</td>\n",
       "    </tr>\n",
       "    <tr>\n",
       "      <th>5627</th>\n",
       "      <td>O908030303</td>\n",
       "      <td>M</td>\n",
       "      <td>20</td>\n",
       "      <td>177.0</td>\n",
       "      <td>88.5</td>\n",
       "      <td>89.8</td>\n",
       "      <td>28.248588</td>\n",
       "      <td>87</td>\n",
       "    </tr>\n",
       "    <tr>\n",
       "      <th>5652</th>\n",
       "      <td>O909028301</td>\n",
       "      <td>M</td>\n",
       "      <td>20</td>\n",
       "      <td>180.4</td>\n",
       "      <td>81.3</td>\n",
       "      <td>79.2</td>\n",
       "      <td>24.981441</td>\n",
       "      <td>92</td>\n",
       "    </tr>\n",
       "    <tr>\n",
       "      <th>5801</th>\n",
       "      <td>P903022103</td>\n",
       "      <td>M</td>\n",
       "      <td>19</td>\n",
       "      <td>177.6</td>\n",
       "      <td>64.1</td>\n",
       "      <td>69.7</td>\n",
       "      <td>20.322265</td>\n",
       "      <td>84</td>\n",
       "    </tr>\n",
       "  </tbody>\n",
       "</table>\n",
       "<p>111 rows × 8 columns</p>\n",
       "</div>"
      ],
      "text/plain": [
       "              ID sex  age  height  weight  waist        BMI  Blood_glucose\n",
       "163   A906023903   F   20   166.2    57.5   70.0  20.816409             91\n",
       "182   A906029304   M   20   167.2    58.4   75.3  20.890090             95\n",
       "197   A907023103   F   20   164.0    57.4   73.2  21.341463             84\n",
       "256   A908029803   F   20   157.2    52.7   68.3  21.325810             89\n",
       "257   A908029804   M   19   175.0    76.1   84.2  24.848980             89\n",
       "...          ...  ..  ...     ...     ...    ...        ...            ...\n",
       "5511  O905024003   F   19   164.9    52.9   67.2  19.454244             88\n",
       "5550  O906025503   M   19   173.4    78.4   83.7  26.074613             97\n",
       "5627  O908030303   M   20   177.0    88.5   89.8  28.248588             87\n",
       "5652  O909028301   M   20   180.4    81.3   79.2  24.981441             92\n",
       "5801  P903022103   M   19   177.6    64.1   69.7  20.322265             84\n",
       "\n",
       "[111 rows x 8 columns]"
      ]
     },
     "execution_count": 32,
     "metadata": {},
     "output_type": "execute_result"
    }
   ],
   "source": [
    "data3"
   ]
  },
  {
   "cell_type": "markdown",
   "metadata": {},
   "source": [
    "### 3-1. BMI 25 이상인 사람은 '비만', BMI 25 미만은 '정상'으로 분류한 뒤, 성별에 따라 비만 빈도를 표시하는 분할표(교차표)를 생성하라. "
   ]
  },
  {
   "cell_type": "code",
   "execution_count": 33,
   "metadata": {},
   "outputs": [
    {
     "name": "stderr",
     "output_type": "stream",
     "text": [
      "C:\\Users\\pc\\AppData\\Local\\Temp/ipykernel_21652/930097920.py:1: SettingWithCopyWarning: \n",
      "A value is trying to be set on a copy of a slice from a DataFrame.\n",
      "Try using .loc[row_indexer,col_indexer] = value instead\n",
      "\n",
      "See the caveats in the documentation: https://pandas.pydata.org/pandas-docs/stable/user_guide/indexing.html#returning-a-view-versus-a-copy\n",
      "  data3['obesity'] = ['Obese' if b >= 25 else 'Normal' for b in data3['BMI']]\n"
     ]
    },
    {
     "data": {
      "text/html": [
       "<div>\n",
       "<style scoped>\n",
       "    .dataframe tbody tr th:only-of-type {\n",
       "        vertical-align: middle;\n",
       "    }\n",
       "\n",
       "    .dataframe tbody tr th {\n",
       "        vertical-align: top;\n",
       "    }\n",
       "\n",
       "    .dataframe thead th {\n",
       "        text-align: right;\n",
       "    }\n",
       "</style>\n",
       "<table border=\"1\" class=\"dataframe\">\n",
       "  <thead>\n",
       "    <tr style=\"text-align: right;\">\n",
       "      <th></th>\n",
       "      <th>ID</th>\n",
       "      <th>sex</th>\n",
       "      <th>age</th>\n",
       "      <th>height</th>\n",
       "      <th>weight</th>\n",
       "      <th>waist</th>\n",
       "      <th>BMI</th>\n",
       "      <th>Blood_glucose</th>\n",
       "      <th>obesity</th>\n",
       "    </tr>\n",
       "  </thead>\n",
       "  <tbody>\n",
       "    <tr>\n",
       "      <th>163</th>\n",
       "      <td>A906023903</td>\n",
       "      <td>F</td>\n",
       "      <td>20</td>\n",
       "      <td>166.2</td>\n",
       "      <td>57.5</td>\n",
       "      <td>70.0</td>\n",
       "      <td>20.816409</td>\n",
       "      <td>91</td>\n",
       "      <td>Normal</td>\n",
       "    </tr>\n",
       "    <tr>\n",
       "      <th>182</th>\n",
       "      <td>A906029304</td>\n",
       "      <td>M</td>\n",
       "      <td>20</td>\n",
       "      <td>167.2</td>\n",
       "      <td>58.4</td>\n",
       "      <td>75.3</td>\n",
       "      <td>20.890090</td>\n",
       "      <td>95</td>\n",
       "      <td>Normal</td>\n",
       "    </tr>\n",
       "    <tr>\n",
       "      <th>197</th>\n",
       "      <td>A907023103</td>\n",
       "      <td>F</td>\n",
       "      <td>20</td>\n",
       "      <td>164.0</td>\n",
       "      <td>57.4</td>\n",
       "      <td>73.2</td>\n",
       "      <td>21.341463</td>\n",
       "      <td>84</td>\n",
       "      <td>Normal</td>\n",
       "    </tr>\n",
       "    <tr>\n",
       "      <th>256</th>\n",
       "      <td>A908029803</td>\n",
       "      <td>F</td>\n",
       "      <td>20</td>\n",
       "      <td>157.2</td>\n",
       "      <td>52.7</td>\n",
       "      <td>68.3</td>\n",
       "      <td>21.325810</td>\n",
       "      <td>89</td>\n",
       "      <td>Normal</td>\n",
       "    </tr>\n",
       "    <tr>\n",
       "      <th>257</th>\n",
       "      <td>A908029804</td>\n",
       "      <td>M</td>\n",
       "      <td>19</td>\n",
       "      <td>175.0</td>\n",
       "      <td>76.1</td>\n",
       "      <td>84.2</td>\n",
       "      <td>24.848980</td>\n",
       "      <td>89</td>\n",
       "      <td>Normal</td>\n",
       "    </tr>\n",
       "    <tr>\n",
       "      <th>...</th>\n",
       "      <td>...</td>\n",
       "      <td>...</td>\n",
       "      <td>...</td>\n",
       "      <td>...</td>\n",
       "      <td>...</td>\n",
       "      <td>...</td>\n",
       "      <td>...</td>\n",
       "      <td>...</td>\n",
       "      <td>...</td>\n",
       "    </tr>\n",
       "    <tr>\n",
       "      <th>5511</th>\n",
       "      <td>O905024003</td>\n",
       "      <td>F</td>\n",
       "      <td>19</td>\n",
       "      <td>164.9</td>\n",
       "      <td>52.9</td>\n",
       "      <td>67.2</td>\n",
       "      <td>19.454244</td>\n",
       "      <td>88</td>\n",
       "      <td>Normal</td>\n",
       "    </tr>\n",
       "    <tr>\n",
       "      <th>5550</th>\n",
       "      <td>O906025503</td>\n",
       "      <td>M</td>\n",
       "      <td>19</td>\n",
       "      <td>173.4</td>\n",
       "      <td>78.4</td>\n",
       "      <td>83.7</td>\n",
       "      <td>26.074613</td>\n",
       "      <td>97</td>\n",
       "      <td>Obese</td>\n",
       "    </tr>\n",
       "    <tr>\n",
       "      <th>5627</th>\n",
       "      <td>O908030303</td>\n",
       "      <td>M</td>\n",
       "      <td>20</td>\n",
       "      <td>177.0</td>\n",
       "      <td>88.5</td>\n",
       "      <td>89.8</td>\n",
       "      <td>28.248588</td>\n",
       "      <td>87</td>\n",
       "      <td>Obese</td>\n",
       "    </tr>\n",
       "    <tr>\n",
       "      <th>5652</th>\n",
       "      <td>O909028301</td>\n",
       "      <td>M</td>\n",
       "      <td>20</td>\n",
       "      <td>180.4</td>\n",
       "      <td>81.3</td>\n",
       "      <td>79.2</td>\n",
       "      <td>24.981441</td>\n",
       "      <td>92</td>\n",
       "      <td>Normal</td>\n",
       "    </tr>\n",
       "    <tr>\n",
       "      <th>5801</th>\n",
       "      <td>P903022103</td>\n",
       "      <td>M</td>\n",
       "      <td>19</td>\n",
       "      <td>177.6</td>\n",
       "      <td>64.1</td>\n",
       "      <td>69.7</td>\n",
       "      <td>20.322265</td>\n",
       "      <td>84</td>\n",
       "      <td>Normal</td>\n",
       "    </tr>\n",
       "  </tbody>\n",
       "</table>\n",
       "<p>111 rows × 9 columns</p>\n",
       "</div>"
      ],
      "text/plain": [
       "              ID sex  age  height  weight  waist        BMI  Blood_glucose  \\\n",
       "163   A906023903   F   20   166.2    57.5   70.0  20.816409             91   \n",
       "182   A906029304   M   20   167.2    58.4   75.3  20.890090             95   \n",
       "197   A907023103   F   20   164.0    57.4   73.2  21.341463             84   \n",
       "256   A908029803   F   20   157.2    52.7   68.3  21.325810             89   \n",
       "257   A908029804   M   19   175.0    76.1   84.2  24.848980             89   \n",
       "...          ...  ..  ...     ...     ...    ...        ...            ...   \n",
       "5511  O905024003   F   19   164.9    52.9   67.2  19.454244             88   \n",
       "5550  O906025503   M   19   173.4    78.4   83.7  26.074613             97   \n",
       "5627  O908030303   M   20   177.0    88.5   89.8  28.248588             87   \n",
       "5652  O909028301   M   20   180.4    81.3   79.2  24.981441             92   \n",
       "5801  P903022103   M   19   177.6    64.1   69.7  20.322265             84   \n",
       "\n",
       "     obesity  \n",
       "163   Normal  \n",
       "182   Normal  \n",
       "197   Normal  \n",
       "256   Normal  \n",
       "257   Normal  \n",
       "...      ...  \n",
       "5511  Normal  \n",
       "5550   Obese  \n",
       "5627   Obese  \n",
       "5652  Normal  \n",
       "5801  Normal  \n",
       "\n",
       "[111 rows x 9 columns]"
      ]
     },
     "execution_count": 33,
     "metadata": {},
     "output_type": "execute_result"
    }
   ],
   "source": [
    "data3['obesity'] = ['Obese' if b >= 25 else 'Normal' for b in data3['BMI']]\n",
    "data3"
   ]
  },
  {
   "cell_type": "code",
   "execution_count": 34,
   "metadata": {},
   "outputs": [
    {
     "data": {
      "text/html": [
       "<div>\n",
       "<style scoped>\n",
       "    .dataframe tbody tr th:only-of-type {\n",
       "        vertical-align: middle;\n",
       "    }\n",
       "\n",
       "    .dataframe tbody tr th {\n",
       "        vertical-align: top;\n",
       "    }\n",
       "\n",
       "    .dataframe thead th {\n",
       "        text-align: right;\n",
       "    }\n",
       "</style>\n",
       "<table border=\"1\" class=\"dataframe\">\n",
       "  <thead>\n",
       "    <tr style=\"text-align: right;\">\n",
       "      <th>obesity</th>\n",
       "      <th>Normal</th>\n",
       "      <th>Obese</th>\n",
       "    </tr>\n",
       "    <tr>\n",
       "      <th>sex</th>\n",
       "      <th></th>\n",
       "      <th></th>\n",
       "    </tr>\n",
       "  </thead>\n",
       "  <tbody>\n",
       "    <tr>\n",
       "      <th>F</th>\n",
       "      <td>54</td>\n",
       "      <td>7</td>\n",
       "    </tr>\n",
       "    <tr>\n",
       "      <th>M</th>\n",
       "      <td>39</td>\n",
       "      <td>11</td>\n",
       "    </tr>\n",
       "  </tbody>\n",
       "</table>\n",
       "</div>"
      ],
      "text/plain": [
       "obesity  Normal  Obese\n",
       "sex                   \n",
       "F            54      7\n",
       "M            39     11"
      ]
     },
     "execution_count": 34,
     "metadata": {},
     "output_type": "execute_result"
    }
   ],
   "source": [
    "cross = pd.crosstab(data3.sex, data3.obesity)\n",
    "cross"
   ]
  },
  {
   "cell_type": "code",
   "execution_count": 35,
   "metadata": {},
   "outputs": [],
   "source": [
    "#답"
   ]
  },
  {
   "cell_type": "markdown",
   "metadata": {},
   "source": [
    "### 3-2. 분할표 검정(카이제곱 검정)을 시행해 성별에 따라 과체중의 빈도가 다른지 p값을 구하시오."
   ]
  },
  {
   "cell_type": "code",
   "execution_count": 36,
   "metadata": {},
   "outputs": [
    {
     "data": {
      "text/plain": [
       "(2.240153358011634,\n",
       " 0.13446764312934373,\n",
       " 1,\n",
       " array([[51.108,  9.892],\n",
       "        [41.892,  8.108]]))"
      ]
     },
     "execution_count": 36,
     "metadata": {},
     "output_type": "execute_result"
    }
   ],
   "source": [
    "sp.stats.chi2_contingency(cross, correction = False)\n",
    "#나름 비슷하다 "
   ]
  },
  {
   "cell_type": "markdown",
   "metadata": {},
   "source": [
    "### 3-3. 위의 분할표에서 관찰된 샘플 수가 모두 2배가 된다면, 분할표 검정 결과는 어떻게 되는가?"
   ]
  },
  {
   "cell_type": "code",
   "execution_count": 37,
   "metadata": {},
   "outputs": [
    {
     "data": {
      "text/plain": [
       "(4.480306716023268,\n",
       " 0.03428756718303286,\n",
       " 1,\n",
       " array([[102.216,  19.784],\n",
       "        [ 83.784,  16.216]]))"
      ]
     },
     "execution_count": 37,
     "metadata": {},
     "output_type": "execute_result"
    }
   ],
   "source": [
    "sp.stats.chi2_contingency(cross*2, correction = False)"
   ]
  }
 ],
 "metadata": {
  "kernelspec": {
   "display_name": "Python 3 (ipykernel)",
   "language": "python",
   "name": "python3"
  },
  "language_info": {
   "codemirror_mode": {
    "name": "ipython",
    "version": 3
   },
   "file_extension": ".py",
   "mimetype": "text/x-python",
   "name": "python",
   "nbconvert_exporter": "python",
   "pygments_lexer": "ipython3",
   "version": "3.9.7"
  }
 },
 "nbformat": 4,
 "nbformat_minor": 2
}
